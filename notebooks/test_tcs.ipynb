{
 "cells": [
  {
   "cell_type": "code",
   "execution_count": 2,
   "id": "5292fe1f",
   "metadata": {},
   "outputs": [
    {
     "name": "stdout",
     "output_type": "stream",
     "text": [
      "[!] VWAP requires an ordered DatetimeIndex.\n"
     ]
    },
    {
     "ename": "AttributeError",
     "evalue": "'AnalysisIndicators' object has no attribute 'sqzpro'",
     "output_type": "error",
     "traceback": [
      "\u001b[31m---------------------------------------------------------------------------\u001b[39m",
      "\u001b[31mAttributeError\u001b[39m                            Traceback (most recent call last)",
      "\u001b[36mCell\u001b[39m\u001b[36m \u001b[39m\u001b[32mIn[2]\u001b[39m\u001b[32m, line 46\u001b[39m\n\u001b[32m     43\u001b[39m df[\u001b[33m\"\u001b[39m\u001b[33mOBV\u001b[39m\u001b[33m\"\u001b[39m]  = ta.obv( df[ohlcv[\u001b[33m\"\u001b[39m\u001b[33mClose\u001b[39m\u001b[33m\"\u001b[39m]], df[ohlcv[\u001b[33m\"\u001b[39m\u001b[33mVolume\u001b[39m\u001b[33m\"\u001b[39m]] )\n\u001b[32m     44\u001b[39m df[\u001b[33m\"\u001b[39m\u001b[33mVWAP\u001b[39m\u001b[33m\"\u001b[39m] = ta.vwap(df[ohlcv[\u001b[33m\"\u001b[39m\u001b[33mHigh\u001b[39m\u001b[33m\"\u001b[39m]], df[ohlcv[\u001b[33m\"\u001b[39m\u001b[33mLow\u001b[39m\u001b[33m\"\u001b[39m]],\n\u001b[32m     45\u001b[39m                      df[ohlcv[\u001b[33m\"\u001b[39m\u001b[33mClose\u001b[39m\u001b[33m\"\u001b[39m]], df[ohlcv[\u001b[33m\"\u001b[39m\u001b[33mVolume\u001b[39m\u001b[33m\"\u001b[39m]])\n\u001b[32m---> \u001b[39m\u001b[32m46\u001b[39m \u001b[43mdf\u001b[49m\u001b[43m.\u001b[49m\u001b[43mta\u001b[49m\u001b[43m.\u001b[49m\u001b[43msqzpro\u001b[49m(append=\u001b[38;5;28;01mTrue\u001b[39;00m)\n\u001b[32m     48\u001b[39m \u001b[38;5;28mprint\u001b[39m(\u001b[33mf\u001b[39m\u001b[33m\"\u001b[39m\u001b[33mDownloaded \u001b[39m\u001b[38;5;132;01m{\u001b[39;00m\u001b[38;5;28mlen\u001b[39m(df)\u001b[38;5;132;01m}\u001b[39;00m\u001b[33m 1-minute rows for \u001b[39m\u001b[38;5;132;01m{\u001b[39;00msymbol\u001b[38;5;132;01m}\u001b[39;00m\u001b[33m\"\u001b[39m)\n\u001b[32m     49\u001b[39m \u001b[38;5;28mprint\u001b[39m(df.head())\n",
      "\u001b[31mAttributeError\u001b[39m: 'AnalysisIndicators' object has no attribute 'sqzpro'"
     ]
    }
   ],
   "source": [
    "# 🧩 Cell 1 — TCS.NS, 1-minute data, robust mapping\n",
    "from datetime import datetime, timedelta\n",
    "import yfinance as yf, pandas as pd, pandas_ta as ta\n",
    "\n",
    "# 1) Download last 7 days of 1-minute candles\n",
    "symbol = \"TCS.NS\"\n",
    "end, start = datetime.now(), datetime.now() - timedelta(days=7)\n",
    "df = yf.download(symbol, start=start.strftime(\"%Y-%m-%d\"),\n",
    "                 end=end.strftime(\"%Y-%m-%d\"),\n",
    "                 interval=\"1m\", auto_adjust=False, progress=False)\n",
    "\n",
    "# 2) Flatten any MultiIndex and clean names\n",
    "if hasattr(df.columns, \"to_flat_index\"):\n",
    "    df.columns = df.columns.to_flat_index()\n",
    "df.columns = [\n",
    "    \"_\".join(map(str, c)) if isinstance(c, tuple) else str(c)\n",
    "    for c in df.columns\n",
    "]\n",
    "\n",
    "# 3) Add datetime string column\n",
    "df = df.reset_index()\n",
    "df[\"time\"] = pd.to_datetime(df[\"Datetime\"]).dt.strftime(\"%Y-%m-%d %H:%M\")\n",
    "\n",
    "# 4) Map actual OHLCV column names (handles ticker suffix)\n",
    "def map_ohlcv(frame):\n",
    "    out = {}\n",
    "    for base in [\"Open\", \"High\", \"Low\", \"Close\", \"Volume\"]:\n",
    "        out[base] = next(c for c in frame.columns if base.lower() in c.lower())\n",
    "    return out\n",
    "ohlcv = map_ohlcv(df)\n",
    "\n",
    "# 5) Technical indicators\n",
    "df.ta.sma(length=20,  append=True)\n",
    "df.ta.ema(length=12,  append=True)\n",
    "df.ta.ema(length=26,  append=True)\n",
    "df.ta.macd(append=True)\n",
    "df.ta.rsi(length=14,  append=True)\n",
    "df.ta.bbands(length=20, append=True)\n",
    "df.ta.atr(length=14,  append=True)\n",
    "df.ta.stoch(append=True)\n",
    "df.ta.adx(length=14,  append=True)\n",
    "df.ta.willr(length=14, append=True)\n",
    "df[\"OBV\"]  = ta.obv( df[ohlcv[\"Close\"]], df[ohlcv[\"Volume\"]] )\n",
    "df[\"VWAP\"] = ta.vwap(df[ohlcv[\"High\"]], df[ohlcv[\"Low\"]],\n",
    "                     df[ohlcv[\"Close\"]], df[ohlcv[\"Volume\"]])\n",
    "df.ta.sqzpro(append=True)\n",
    "\n",
    "print(f\"Downloaded {len(df)} 1-minute rows for {symbol}\")\n",
    "print(df.head())\n"
   ]
  },
  {
   "cell_type": "code",
   "execution_count": null,
   "id": "f1939de7",
   "metadata": {},
   "outputs": [],
   "source": []
  }
 ],
 "metadata": {
  "kernelspec": {
   "display_name": "stock-prediction",
   "language": "python",
   "name": "python3"
  },
  "language_info": {
   "codemirror_mode": {
    "name": "ipython",
    "version": 3
   },
   "file_extension": ".py",
   "mimetype": "text/x-python",
   "name": "python",
   "nbconvert_exporter": "python",
   "pygments_lexer": "ipython3",
   "version": "3.11.13"
  }
 },
 "nbformat": 4,
 "nbformat_minor": 5
}
